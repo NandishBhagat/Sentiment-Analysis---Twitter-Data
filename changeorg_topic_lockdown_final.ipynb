{
  "nbformat": 4,
  "nbformat_minor": 0,
  "metadata": {
    "colab": {
      "provenance": [],
      "collapsed_sections": []
    },
    "kernelspec": {
      "name": "python3",
      "display_name": "Python 3"
    },
    "language_info": {
      "name": "python"
    }
  },
  "cells": [
    {
      "cell_type": "code",
      "execution_count": 1,
      "metadata": {
        "id": "JM-xLw_65Io6"
      },
      "outputs": [],
      "source": [
        "#!python /content/drive/MyDrive/ProjectPhase2/nyt_topic/expand_topic_csv_dataset.py --infile /content/drive/MyDrive/ProjectPhase2/nyt_topic/nyt_topic_0.csv"
      ]
    },
    {
      "cell_type": "code",
      "source": [
        "#!python /content/drive/MyDrive/ProjectPhase2/nyt_topic/expand_topic_csv_dataset.py --infile /content/drive/MyDrive/ProjectPhase2/nyt_topic/nyt_topic_1.csv"
      ],
      "metadata": {
        "id": "gO7YNLEQ5uhQ"
      },
      "execution_count": 2,
      "outputs": []
    },
    {
      "cell_type": "code",
      "source": [
        "#!python /content/drive/MyDrive/ProjectPhase2/nyt_topic/expand_topic_csv_dataset.py --infile /content/drive/MyDrive/ProjectPhase2/nyt_topic/nyt_topic_2.csv"
      ],
      "metadata": {
        "id": "9L5pitAe6KVE"
      },
      "execution_count": 3,
      "outputs": []
    },
    {
      "cell_type": "code",
      "source": [
        "import pandas as pd\n",
        "import numpy as np\n",
        "\n",
        "from sklearn.metrics import cohen_kappa_score\n"
      ],
      "metadata": {
        "id": "b5-o057Q6LWf"
      },
      "execution_count": 4,
      "outputs": []
    },
    {
      "cell_type": "code",
      "source": [
        "changeorg_lock_0=pd.read_csv(\"/content/drive/MyDrive/ProjectPhase2/changeorg_topic/changeorg_topic_0_lockdowns.csv\")\n",
        "changeorg_lock_1=pd.read_csv(\"/content/drive/MyDrive/ProjectPhase2/changeorg_topic/changeorg_topic_1_lockdowns.csv\")\n",
        "changeorg_lock_2=pd.read_csv(\"/content/drive/MyDrive/ProjectPhase2/changeorg_topic/changeorg_topic_2_lockdowns.csv\")\n",
        "changeorg_lock_3=pd.read_csv(\"/content/drive/MyDrive/ProjectPhase2/changeorg_topic/changeorg_topic_3_lockdowns.csv\")\n",
        "changeorg_lock_4=pd.read_csv(\"/content/drive/MyDrive/ProjectPhase2/changeorg_topic/changeorg_topic_4_lockdowns.csv\")"
      ],
      "metadata": {
        "id": "tqgjJ7sR6P86"
      },
      "execution_count": 5,
      "outputs": []
    },
    {
      "cell_type": "code",
      "source": [
        "changeorg_lock_4.describe()"
      ],
      "metadata": {
        "colab": {
          "base_uri": "https://localhost:8080/",
          "height": 175
        },
        "id": "0ATEl1PK8Xa_",
        "outputId": "bcc6d1f1-f8da-4037-e41c-3ccec28f9ef6"
      },
      "execution_count": 6,
      "outputs": [
        {
          "output_type": "execute_result",
          "data": {
            "text/plain": [
              "                                              text annotation_96  \\\n",
              "count                                          300           300   \n",
              "unique                                         300             2   \n",
              "top     Language Education in the Time of COVID-19         False   \n",
              "freq                                             1           245   \n",
              "\n",
              "       annotation_53 annotation_93 annotation_94 annotation_95  \n",
              "count            300           300           300           300  \n",
              "unique             2             2             2             2  \n",
              "top            False         False         False         False  \n",
              "freq             295           229           236           251  "
            ],
            "text/html": [
              "\n",
              "  <div id=\"df-a58995e3-ac3f-45be-ba8f-c93b76864a55\">\n",
              "    <div class=\"colab-df-container\">\n",
              "      <div>\n",
              "<style scoped>\n",
              "    .dataframe tbody tr th:only-of-type {\n",
              "        vertical-align: middle;\n",
              "    }\n",
              "\n",
              "    .dataframe tbody tr th {\n",
              "        vertical-align: top;\n",
              "    }\n",
              "\n",
              "    .dataframe thead th {\n",
              "        text-align: right;\n",
              "    }\n",
              "</style>\n",
              "<table border=\"1\" class=\"dataframe\">\n",
              "  <thead>\n",
              "    <tr style=\"text-align: right;\">\n",
              "      <th></th>\n",
              "      <th>text</th>\n",
              "      <th>annotation_96</th>\n",
              "      <th>annotation_53</th>\n",
              "      <th>annotation_93</th>\n",
              "      <th>annotation_94</th>\n",
              "      <th>annotation_95</th>\n",
              "    </tr>\n",
              "  </thead>\n",
              "  <tbody>\n",
              "    <tr>\n",
              "      <th>count</th>\n",
              "      <td>300</td>\n",
              "      <td>300</td>\n",
              "      <td>300</td>\n",
              "      <td>300</td>\n",
              "      <td>300</td>\n",
              "      <td>300</td>\n",
              "    </tr>\n",
              "    <tr>\n",
              "      <th>unique</th>\n",
              "      <td>300</td>\n",
              "      <td>2</td>\n",
              "      <td>2</td>\n",
              "      <td>2</td>\n",
              "      <td>2</td>\n",
              "      <td>2</td>\n",
              "    </tr>\n",
              "    <tr>\n",
              "      <th>top</th>\n",
              "      <td>Language Education in the Time of COVID-19</td>\n",
              "      <td>False</td>\n",
              "      <td>False</td>\n",
              "      <td>False</td>\n",
              "      <td>False</td>\n",
              "      <td>False</td>\n",
              "    </tr>\n",
              "    <tr>\n",
              "      <th>freq</th>\n",
              "      <td>1</td>\n",
              "      <td>245</td>\n",
              "      <td>295</td>\n",
              "      <td>229</td>\n",
              "      <td>236</td>\n",
              "      <td>251</td>\n",
              "    </tr>\n",
              "  </tbody>\n",
              "</table>\n",
              "</div>\n",
              "      <button class=\"colab-df-convert\" onclick=\"convertToInteractive('df-a58995e3-ac3f-45be-ba8f-c93b76864a55')\"\n",
              "              title=\"Convert this dataframe to an interactive table.\"\n",
              "              style=\"display:none;\">\n",
              "        \n",
              "  <svg xmlns=\"http://www.w3.org/2000/svg\" height=\"24px\"viewBox=\"0 0 24 24\"\n",
              "       width=\"24px\">\n",
              "    <path d=\"M0 0h24v24H0V0z\" fill=\"none\"/>\n",
              "    <path d=\"M18.56 5.44l.94 2.06.94-2.06 2.06-.94-2.06-.94-.94-2.06-.94 2.06-2.06.94zm-11 1L8.5 8.5l.94-2.06 2.06-.94-2.06-.94L8.5 2.5l-.94 2.06-2.06.94zm10 10l.94 2.06.94-2.06 2.06-.94-2.06-.94-.94-2.06-.94 2.06-2.06.94z\"/><path d=\"M17.41 7.96l-1.37-1.37c-.4-.4-.92-.59-1.43-.59-.52 0-1.04.2-1.43.59L10.3 9.45l-7.72 7.72c-.78.78-.78 2.05 0 2.83L4 21.41c.39.39.9.59 1.41.59.51 0 1.02-.2 1.41-.59l7.78-7.78 2.81-2.81c.8-.78.8-2.07 0-2.86zM5.41 20L4 18.59l7.72-7.72 1.47 1.35L5.41 20z\"/>\n",
              "  </svg>\n",
              "      </button>\n",
              "      \n",
              "  <style>\n",
              "    .colab-df-container {\n",
              "      display:flex;\n",
              "      flex-wrap:wrap;\n",
              "      gap: 12px;\n",
              "    }\n",
              "\n",
              "    .colab-df-convert {\n",
              "      background-color: #E8F0FE;\n",
              "      border: none;\n",
              "      border-radius: 50%;\n",
              "      cursor: pointer;\n",
              "      display: none;\n",
              "      fill: #1967D2;\n",
              "      height: 32px;\n",
              "      padding: 0 0 0 0;\n",
              "      width: 32px;\n",
              "    }\n",
              "\n",
              "    .colab-df-convert:hover {\n",
              "      background-color: #E2EBFA;\n",
              "      box-shadow: 0px 1px 2px rgba(60, 64, 67, 0.3), 0px 1px 3px 1px rgba(60, 64, 67, 0.15);\n",
              "      fill: #174EA6;\n",
              "    }\n",
              "\n",
              "    [theme=dark] .colab-df-convert {\n",
              "      background-color: #3B4455;\n",
              "      fill: #D2E3FC;\n",
              "    }\n",
              "\n",
              "    [theme=dark] .colab-df-convert:hover {\n",
              "      background-color: #434B5C;\n",
              "      box-shadow: 0px 1px 3px 1px rgba(0, 0, 0, 0.15);\n",
              "      filter: drop-shadow(0px 1px 2px rgba(0, 0, 0, 0.3));\n",
              "      fill: #FFFFFF;\n",
              "    }\n",
              "  </style>\n",
              "\n",
              "      <script>\n",
              "        const buttonEl =\n",
              "          document.querySelector('#df-a58995e3-ac3f-45be-ba8f-c93b76864a55 button.colab-df-convert');\n",
              "        buttonEl.style.display =\n",
              "          google.colab.kernel.accessAllowed ? 'block' : 'none';\n",
              "\n",
              "        async function convertToInteractive(key) {\n",
              "          const element = document.querySelector('#df-a58995e3-ac3f-45be-ba8f-c93b76864a55');\n",
              "          const dataTable =\n",
              "            await google.colab.kernel.invokeFunction('convertToInteractive',\n",
              "                                                     [key], {});\n",
              "          if (!dataTable) return;\n",
              "\n",
              "          const docLinkHtml = 'Like what you see? Visit the ' +\n",
              "            '<a target=\"_blank\" href=https://colab.research.google.com/notebooks/data_table.ipynb>data table notebook</a>'\n",
              "            + ' to learn more about interactive tables.';\n",
              "          element.innerHTML = '';\n",
              "          dataTable['output_type'] = 'display_data';\n",
              "          await google.colab.output.renderOutput(dataTable, element);\n",
              "          const docLink = document.createElement('div');\n",
              "          docLink.innerHTML = docLinkHtml;\n",
              "          element.appendChild(docLink);\n",
              "        }\n",
              "      </script>\n",
              "    </div>\n",
              "  </div>\n",
              "  "
            ]
          },
          "metadata": {},
          "execution_count": 6
        }
      ]
    },
    {
      "cell_type": "code",
      "source": [],
      "metadata": {
        "id": "LY9ZdUJ76UmH"
      },
      "execution_count": 6,
      "outputs": []
    },
    {
      "cell_type": "code",
      "source": [
        "list0_lockdown=[\"annotation_43\",\"annotation_44\",\"annotation_45\",\"annotation_46\"]\n",
        "list1_lockdown=[\"annotation_73\",\"annotation_74\",\"annotation_75\",\"annotation_76\"]\n",
        "list2_lockdown=[\"annotation_48\",\"annotation_49\",\"annotation_50\",\"annotation_47\"]\n",
        "list3_lockdown=[\"annotation_112\",\"annotation_109\",\"annotation_110\",\"annotation_111\"]\n",
        "list4_lockdown=[\"annotation_96\",\"annotation_53\",\"annotation_93\",\"annotation_94\",\"annotation_95\"]\n"
      ],
      "metadata": {
        "id": "zNh8DUJP8FLM"
      },
      "execution_count": 7,
      "outputs": []
    },
    {
      "cell_type": "code",
      "source": [
        "len(list4_lockdown)"
      ],
      "metadata": {
        "colab": {
          "base_uri": "https://localhost:8080/"
        },
        "id": "y4nA203E2Yxg",
        "outputId": "855999c3-1cee-4006-b287-513cdf9e008e"
      },
      "execution_count": 8,
      "outputs": [
        {
          "output_type": "execute_result",
          "data": {
            "text/plain": [
              "5"
            ]
          },
          "metadata": {},
          "execution_count": 8
        }
      ]
    },
    {
      "cell_type": "code",
      "source": [
        "#for lockdown 0\n",
        "lockdown0_list=[]\n",
        "for i in range(0,len(list0_lockdown)):\n",
        "  var=0\n",
        "  for j in range(0,len(list0_lockdown)):\n",
        "    if i!=j:\n",
        "      var+=cohen_kappa_score(changeorg_lock_0[list0_lockdown[i]],changeorg_lock_0[list0_lockdown[j]])\n",
        "    else:\n",
        "      j+=1\n",
        "  var=var/(len(list0_lockdown)-1)\n",
        "  if var>0.2:\n",
        "    lockdown0_list.append(var)"
      ],
      "metadata": {
        "id": "DnwEua6LA4e-"
      },
      "execution_count": 9,
      "outputs": []
    },
    {
      "cell_type": "code",
      "source": [
        "lockdown0_list"
      ],
      "metadata": {
        "colab": {
          "base_uri": "https://localhost:8080/"
        },
        "id": "oS8qlehABNxS",
        "outputId": "769a5a3d-682e-468a-946b-d776a02f9756"
      },
      "execution_count": 10,
      "outputs": [
        {
          "output_type": "execute_result",
          "data": {
            "text/plain": [
              "[0.36010628808917683, 0.38002727513320894, 0.38613193821237113]"
            ]
          },
          "metadata": {},
          "execution_count": 10
        }
      ]
    },
    {
      "cell_type": "code",
      "source": [
        "\n",
        "newtemp=[]\n",
        "print(newtemp)\n",
        "for t in range(0,len(lockdown0_list)):\n",
        "  if lockdown0_list[t]<0.2:\n",
        "    newtemp.append(t+1)\n",
        "\n",
        "\n",
        "if newtemp:\n",
        "  changeorg_lock_0_final=changeorg_lock_0.drop(changeorg_lock_0.columns[newtemp],axis=1)\n",
        "else:\n",
        "  changeorg_lock_0_final=changeorg_lock_0\n"
      ],
      "metadata": {
        "colab": {
          "base_uri": "https://localhost:8080/"
        },
        "id": "fViyVXcpQh1o",
        "outputId": "3ef41f59-27cf-4c20-abd3-b3dec8f13810"
      },
      "execution_count": 11,
      "outputs": [
        {
          "output_type": "stream",
          "name": "stdout",
          "text": [
            "[]\n"
          ]
        }
      ]
    },
    {
      "cell_type": "code",
      "source": [
        "newtemp"
      ],
      "metadata": {
        "colab": {
          "base_uri": "https://localhost:8080/"
        },
        "id": "HIs1WzqqYvl6",
        "outputId": "8a80d0bd-c2b9-44cd-d6be-58d60ac2ac24"
      },
      "execution_count": 12,
      "outputs": [
        {
          "output_type": "execute_result",
          "data": {
            "text/plain": [
              "[]"
            ]
          },
          "metadata": {},
          "execution_count": 12
        }
      ]
    },
    {
      "cell_type": "code",
      "source": [
        "#changeorg_lock_0_final"
      ],
      "metadata": {
        "id": "3rY8S4MxWHby"
      },
      "execution_count": 13,
      "outputs": []
    },
    {
      "cell_type": "code",
      "source": [
        "#for lockdown 1\n",
        "lockdown1_list=[]\n",
        "for a in range(0,len(list1_lockdown)):\n",
        "  var1=0\n",
        "  for b in range(0,len(list1_lockdown)):\n",
        "    if a!=b:\n",
        "      var1+=cohen_kappa_score(changeorg_lock_1[list1_lockdown[a]],changeorg_lock_1[list1_lockdown[b]])\n",
        "    else:\n",
        "      b+=1\n",
        "  var1=var1/(len(list1_lockdown)-1)\n",
        "  if var1>0.2:\n",
        "    lockdown1_list.append(var1)"
      ],
      "metadata": {
        "id": "CohNLs6XXijn"
      },
      "execution_count": 14,
      "outputs": []
    },
    {
      "cell_type": "code",
      "source": [
        "lockdown1_list"
      ],
      "metadata": {
        "colab": {
          "base_uri": "https://localhost:8080/"
        },
        "id": "bUQ_RWPgYCRC",
        "outputId": "d8356a3f-e50f-4f16-f7d8-5c2862f31bdf"
      },
      "execution_count": 15,
      "outputs": [
        {
          "output_type": "execute_result",
          "data": {
            "text/plain": [
              "[0.622806139472806,\n",
              " 0.6427222846004447,\n",
              " 0.47905378802347115,\n",
              " 0.6476747126970107]"
            ]
          },
          "metadata": {},
          "execution_count": 15
        }
      ]
    },
    {
      "cell_type": "code",
      "source": [
        "\n",
        "\n",
        "newtemp=[]\n",
        "print(newtemp)\n",
        "for t in range(0,len(lockdown1_list)):\n",
        "  if lockdown1_list[t]<0.2:\n",
        "    newtemp.append(t+1)\n",
        "\n",
        "\n",
        "if newtemp:\n",
        "  changeorg_lock_1_final=changeorg_lock_1.drop(changeorg_lock_1.columns[newtemp],axis=1)\n",
        "else:\n",
        "  changeorg_lock_1_final=changeorg_lock_1\n"
      ],
      "metadata": {
        "colab": {
          "base_uri": "https://localhost:8080/"
        },
        "id": "GRRE21x-e8pK",
        "outputId": "83220eec-d138-4068-bc52-cd34ce73fcce"
      },
      "execution_count": 16,
      "outputs": [
        {
          "output_type": "stream",
          "name": "stdout",
          "text": [
            "[]\n"
          ]
        }
      ]
    },
    {
      "cell_type": "code",
      "source": [
        "\n",
        "#for lockdown 2\n",
        "lockdown2_list=[]\n",
        "for c in range(0,len(list2_lockdown)):\n",
        "  var1=0\n",
        "  for d in range(0,len(list2_lockdown)):\n",
        "    if c!=d:\n",
        "      var1+=cohen_kappa_score(changeorg_lock_2[list2_lockdown[c]],changeorg_lock_2[list2_lockdown[d]])\n",
        "    else:\n",
        "      d+=1\n",
        "  var1=var1/(len(list2_lockdown)-1)\n",
        "  if var1>0.2:\n",
        "    lockdown2_list.append(var1)"
      ],
      "metadata": {
        "id": "1kFLSF4Oa8lt"
      },
      "execution_count": 17,
      "outputs": []
    },
    {
      "cell_type": "code",
      "source": [
        "lockdown2_list"
      ],
      "metadata": {
        "colab": {
          "base_uri": "https://localhost:8080/"
        },
        "id": "as-GNggKbIsn",
        "outputId": "b9925778-800d-4760-811e-b91473fc0fe2"
      },
      "execution_count": 18,
      "outputs": [
        {
          "output_type": "execute_result",
          "data": {
            "text/plain": [
              "[0.4200460114235917,\n",
              " 0.4371382830557451,\n",
              " 0.45454008844232313,\n",
              " 0.43423711832993034]"
            ]
          },
          "metadata": {},
          "execution_count": 18
        }
      ]
    },
    {
      "cell_type": "code",
      "source": [
        "\n",
        "\n",
        "newtemp=[]\n",
        "print(newtemp)\n",
        "for t in range(0,len(lockdown2_list)):\n",
        "  if lockdown2_list[t]<0.2:\n",
        "    newtemp.append(t+1)\n",
        "\n",
        "\n",
        "if newtemp:\n",
        "  changeorg_lock_2_final=changeorg_lock_2.drop(changeorg_lock_2.columns[newtemp],axis=1)\n",
        "else:\n",
        "  changeorg_lock_2_final=changeorg_lock_2\n"
      ],
      "metadata": {
        "colab": {
          "base_uri": "https://localhost:8080/"
        },
        "id": "-K_D4FIXge8h",
        "outputId": "e686ed76-626b-49da-9180-2be67013be3d"
      },
      "execution_count": 19,
      "outputs": [
        {
          "output_type": "stream",
          "name": "stdout",
          "text": [
            "[]\n"
          ]
        }
      ]
    },
    {
      "cell_type": "code",
      "source": [
        "\n",
        "#for lockdown 3\n",
        "lockdown3_list=[]\n",
        "for c in range(0,len(list3_lockdown)):\n",
        "  var1=0\n",
        "  for d in range(0,len(list3_lockdown)):\n",
        "    if c!=d:\n",
        "      var1+=cohen_kappa_score(changeorg_lock_3[list3_lockdown[c]],changeorg_lock_3[list3_lockdown[d]])\n",
        "    else:\n",
        "      d+=1\n",
        "  var1=var1/(len(list3_lockdown)-1)\n",
        "  if var1>0.2:\n",
        "    lockdown3_list.append(var1)"
      ],
      "metadata": {
        "id": "TdJehKfrKN2k"
      },
      "execution_count": 20,
      "outputs": []
    },
    {
      "cell_type": "code",
      "source": [
        "lockdown3_list"
      ],
      "metadata": {
        "colab": {
          "base_uri": "https://localhost:8080/"
        },
        "id": "FwMGRXY8KUzE",
        "outputId": "5dcad7f4-218a-4cf3-80bd-12236f016e86"
      },
      "execution_count": 21,
      "outputs": [
        {
          "output_type": "execute_result",
          "data": {
            "text/plain": [
              "[0.39364100293054943,\n",
              " 0.46609505372517274,\n",
              " 0.35665361565697995,\n",
              " 0.30649557663999455]"
            ]
          },
          "metadata": {},
          "execution_count": 21
        }
      ]
    },
    {
      "cell_type": "code",
      "source": [
        "newtemp=[]\n",
        "print(newtemp)\n",
        "for t in range(0,len(lockdown3_list)):\n",
        "  if lockdown3_list[t]<0.2:\n",
        "    newtemp.append(t+1)\n",
        "    \n",
        "if newtemp:\n",
        "  changeorg_lock_3_final=changeorg_lock_3.drop(changeorg_lock_3.columns[newtemp],axis=1)\n",
        "else:\n",
        "  changeorg_lock_3_final=changeorg_lock_3\n"
      ],
      "metadata": {
        "colab": {
          "base_uri": "https://localhost:8080/"
        },
        "id": "9qmkOl6qKZW5",
        "outputId": "50940e2b-69b4-4d62-a3ce-ff3d06aa2589"
      },
      "execution_count": 22,
      "outputs": [
        {
          "output_type": "stream",
          "name": "stdout",
          "text": [
            "[]\n"
          ]
        }
      ]
    },
    {
      "cell_type": "code",
      "source": [
        "\n",
        "#for lockdown 4\n",
        "lockdown4_list=[]\n",
        "for c in range(0,len(list4_lockdown)):\n",
        "  var1=0\n",
        "  for d in range(0,len(list4_lockdown)):\n",
        "    if c!=d:\n",
        "      var1+=cohen_kappa_score(changeorg_lock_4[list4_lockdown[c]],changeorg_lock_4[list4_lockdown[d]])\n",
        "    else:\n",
        "      d+=1\n",
        "  var1=var1/(len(list4_lockdown)-1)\n",
        "  if var1>0.2:\n",
        "    lockdown4_list.append(var1)"
      ],
      "metadata": {
        "id": "maqFm_VqMxLb"
      },
      "execution_count": 23,
      "outputs": []
    },
    {
      "cell_type": "code",
      "source": [
        "lockdown4_list"
      ],
      "metadata": {
        "colab": {
          "base_uri": "https://localhost:8080/"
        },
        "id": "EC2-KXuFM4uh",
        "outputId": "48fda29a-6ce5-4743-853a-1c1585a7edd7"
      },
      "execution_count": 24,
      "outputs": [
        {
          "output_type": "execute_result",
          "data": {
            "text/plain": [
              "[0.3767783800795567,\n",
              " 0.3456977184019719,\n",
              " 0.4282583348403162,\n",
              " 0.4248114868097386]"
            ]
          },
          "metadata": {},
          "execution_count": 24
        }
      ]
    },
    {
      "cell_type": "code",
      "source": [
        "newtemp=[]\n",
        "print(newtemp)\n",
        "for t in range(0,len(lockdown4_list)):\n",
        "  if lockdown4_list[t]<0.2:\n",
        "    newtemp.append(t+1)\n",
        "    \n",
        "if newtemp:\n",
        "  changeorg_lock_4_final=changeorg_lock_4.drop(changeorg_lock_4.columns[newtemp],axis=1)\n",
        "else:\n",
        "  changeorg_lock_4_final=changeorg_lock_4\n"
      ],
      "metadata": {
        "colab": {
          "base_uri": "https://localhost:8080/"
        },
        "id": "DhmYlcoQM56M",
        "outputId": "872c0e84-a058-43ad-82b0-d5c946f404e9"
      },
      "execution_count": 25,
      "outputs": [
        {
          "output_type": "stream",
          "name": "stdout",
          "text": [
            "[]\n"
          ]
        }
      ]
    },
    {
      "cell_type": "code",
      "source": [
        "#for lockdown 0\n",
        "max_lockdown0=lockdown0_list[0]\n",
        "max_lockdown00=0\n",
        "for i in range(0,len(lockdown0_list)):\n",
        "  if lockdown0_list[i]>max_lockdown0:\n",
        "    max_lockdown0=lockdown0_list[i]\n",
        "    max_lockdown00=i\n",
        "\n",
        "\n"
      ],
      "metadata": {
        "id": "g9ggNO8bBOnu"
      },
      "execution_count": 26,
      "outputs": []
    },
    {
      "cell_type": "code",
      "source": [
        "max_lockdown00"
      ],
      "metadata": {
        "colab": {
          "base_uri": "https://localhost:8080/"
        },
        "id": "8U50FCy4Tp37",
        "outputId": "3b41c742-a215-44b0-fcce-b594081b3e0f"
      },
      "execution_count": 27,
      "outputs": [
        {
          "output_type": "execute_result",
          "data": {
            "text/plain": [
              "2"
            ]
          },
          "metadata": {},
          "execution_count": 27
        }
      ]
    },
    {
      "cell_type": "code",
      "source": [
        "#for lockdown 1\n",
        "max_lockdown1=lockdown1_list[0]\n",
        "max_lockdown01=0\n",
        "for k in range(0,len(lockdown1_list)):\n",
        "  if lockdown1_list[k]>max_lockdown1:\n",
        "    max_lockdown1=lockdown1_list[k]\n",
        "    max_lockdown01=k\n",
        "\n",
        "\n"
      ],
      "metadata": {
        "id": "YoJViljRYU-Y"
      },
      "execution_count": 28,
      "outputs": []
    },
    {
      "cell_type": "code",
      "source": [
        "max_lockdown01"
      ],
      "metadata": {
        "colab": {
          "base_uri": "https://localhost:8080/"
        },
        "id": "S5lpkWsCYg3S",
        "outputId": "74cb6f5b-a0d4-43aa-c650-80ca5e52208e"
      },
      "execution_count": 29,
      "outputs": [
        {
          "output_type": "execute_result",
          "data": {
            "text/plain": [
              "3"
            ]
          },
          "metadata": {},
          "execution_count": 29
        }
      ]
    },
    {
      "cell_type": "code",
      "source": [
        "#for lockdown 2\n",
        "max_lockdown2=lockdown2_list[0]\n",
        "max_lockdown02=0\n",
        "for j in range(0,len(lockdown2_list)):\n",
        "  if lockdown2_list[j]>max_lockdown2:\n",
        "    max_lockdown2=lockdown2_list[j]\n",
        "    max_lockdown02=j\n"
      ],
      "metadata": {
        "id": "1Fv1XGFnbUc7"
      },
      "execution_count": 30,
      "outputs": []
    },
    {
      "cell_type": "code",
      "source": [
        "max_lockdown02"
      ],
      "metadata": {
        "colab": {
          "base_uri": "https://localhost:8080/"
        },
        "id": "o71lxWHwbyOL",
        "outputId": "bebd7165-3c99-4ba8-b01b-5f9520558429"
      },
      "execution_count": 31,
      "outputs": [
        {
          "output_type": "execute_result",
          "data": {
            "text/plain": [
              "2"
            ]
          },
          "metadata": {},
          "execution_count": 31
        }
      ]
    },
    {
      "cell_type": "code",
      "source": [
        "#for lockdown 3\n",
        "max_lockdown3=lockdown3_list[0]\n",
        "max_lockdown03=0\n",
        "for l in range(0,len(lockdown3_list)):\n",
        "  if lockdown3_list[l]>max_lockdown3:\n",
        "    max_lockdown3=lockdown3_list[l]\n",
        "    max_lockdown03=l\n"
      ],
      "metadata": {
        "id": "xNmBqRU8N6-o"
      },
      "execution_count": 32,
      "outputs": []
    },
    {
      "cell_type": "code",
      "source": [
        "max_lockdown03"
      ],
      "metadata": {
        "colab": {
          "base_uri": "https://localhost:8080/"
        },
        "id": "imd-JAyhOApu",
        "outputId": "c0efe7cf-dad0-4443-beda-549b19c5d115"
      },
      "execution_count": 33,
      "outputs": [
        {
          "output_type": "execute_result",
          "data": {
            "text/plain": [
              "1"
            ]
          },
          "metadata": {},
          "execution_count": 33
        }
      ]
    },
    {
      "cell_type": "code",
      "source": [
        "#for lockdown 4\n",
        "max_lockdown4=lockdown4_list[0]\n",
        "max_lockdown04=0\n",
        "for m in range(0,len(lockdown4_list)):\n",
        "  if lockdown4_list[m]>max_lockdown4:\n",
        "    max_lockdown4=lockdown4_list[m]\n",
        "    max_lockdown04=m\n"
      ],
      "metadata": {
        "id": "uI_3ffGIOFdf"
      },
      "execution_count": 34,
      "outputs": []
    },
    {
      "cell_type": "code",
      "source": [
        "max_lockdown04"
      ],
      "metadata": {
        "colab": {
          "base_uri": "https://localhost:8080/"
        },
        "id": "dmNQpviIOLil",
        "outputId": "514aee4e-2ea6-47f3-abcd-3f6ebd28cdf8"
      },
      "execution_count": 35,
      "outputs": [
        {
          "output_type": "execute_result",
          "data": {
            "text/plain": [
              "2"
            ]
          },
          "metadata": {},
          "execution_count": 35
        }
      ]
    },
    {
      "cell_type": "code",
      "source": [
        "#for lockdown 0\n",
        "final_label_lockdown=[]\n",
        "\n",
        "for i in range(0,300):\n",
        "  counterT=0\n",
        "  counterF=0\n",
        "  for j in range(1,len(changeorg_lock_0_final.columns)):\n",
        "    if changeorg_lock_0_final.iat[i,j]==True:\n",
        "      counterT+=1\n",
        "    elif changeorg_lock_0_final.iat[i,j]==False:\n",
        "      counterF+=1\n",
        "  if counterT>counterF:\n",
        "    final_label_lockdown.append(True)\n",
        "  elif counterF>counterT:\n",
        "    final_label_lockdown.append(False)\n",
        "  elif counterT==counterF:\n",
        "    final_label_lockdown.append(changeorg_lock_0_final.iat[i,max_lockdown00+1])\n",
        "\n",
        "\n"
      ],
      "metadata": {
        "id": "qHkkUR4eOR9V"
      },
      "execution_count": 36,
      "outputs": []
    },
    {
      "cell_type": "code",
      "source": [
        "changeorg_lock_0_final['lockdown']=final_label_lockdown"
      ],
      "metadata": {
        "id": "mC7ZGajlPEo2"
      },
      "execution_count": 37,
      "outputs": []
    },
    {
      "cell_type": "code",
      "source": [
        "changeorg_lock_new0=changeorg_lock_0_final[['text','lockdown']]"
      ],
      "metadata": {
        "id": "wFapeguFSR4j"
      },
      "execution_count": 38,
      "outputs": []
    },
    {
      "cell_type": "code",
      "source": [
        "changeorg_lock_new0.head(213)"
      ],
      "metadata": {
        "colab": {
          "base_uri": "https://localhost:8080/",
          "height": 424
        },
        "id": "KASO41-PSroZ",
        "outputId": "cd7d10a9-8376-43aa-fc63-d8786d233827"
      },
      "execution_count": 39,
      "outputs": [
        {
          "output_type": "execute_result",
          "data": {
            "text/plain": [
              "                                                  text  lockdown\n",
              "0                 Save Western Ghats from annihilation     False\n",
              "1                                Save Beacon Hill Park     False\n",
              "2         Government of India: Don't Tax Medical Bills     False\n",
              "3                                     NO FAILING @ UCR     False\n",
              "4                       WIAA - Let them play football!      True\n",
              "..                                                 ...       ...\n",
              "208  Protect our Healthcare workers during the COVI...     False\n",
              "209  Personal protective equipment (PPE) is essenti...     False\n",
              "210         Close Schools during the COVID-19 pandemic      True\n",
              "211  Immediate Relief for Rent/Mortgage/Utility Bil...     False\n",
              "212  Loan forgiveness for nurses actively working d...     False\n",
              "\n",
              "[213 rows x 2 columns]"
            ],
            "text/html": [
              "\n",
              "  <div id=\"df-9b0adc9c-59a1-4a4d-9a26-f6562e43ac57\">\n",
              "    <div class=\"colab-df-container\">\n",
              "      <div>\n",
              "<style scoped>\n",
              "    .dataframe tbody tr th:only-of-type {\n",
              "        vertical-align: middle;\n",
              "    }\n",
              "\n",
              "    .dataframe tbody tr th {\n",
              "        vertical-align: top;\n",
              "    }\n",
              "\n",
              "    .dataframe thead th {\n",
              "        text-align: right;\n",
              "    }\n",
              "</style>\n",
              "<table border=\"1\" class=\"dataframe\">\n",
              "  <thead>\n",
              "    <tr style=\"text-align: right;\">\n",
              "      <th></th>\n",
              "      <th>text</th>\n",
              "      <th>lockdown</th>\n",
              "    </tr>\n",
              "  </thead>\n",
              "  <tbody>\n",
              "    <tr>\n",
              "      <th>0</th>\n",
              "      <td>Save Western Ghats from annihilation</td>\n",
              "      <td>False</td>\n",
              "    </tr>\n",
              "    <tr>\n",
              "      <th>1</th>\n",
              "      <td>Save Beacon Hill Park</td>\n",
              "      <td>False</td>\n",
              "    </tr>\n",
              "    <tr>\n",
              "      <th>2</th>\n",
              "      <td>Government of India: Don't Tax Medical Bills</td>\n",
              "      <td>False</td>\n",
              "    </tr>\n",
              "    <tr>\n",
              "      <th>3</th>\n",
              "      <td>NO FAILING @ UCR</td>\n",
              "      <td>False</td>\n",
              "    </tr>\n",
              "    <tr>\n",
              "      <th>4</th>\n",
              "      <td>WIAA - Let them play football!</td>\n",
              "      <td>True</td>\n",
              "    </tr>\n",
              "    <tr>\n",
              "      <th>...</th>\n",
              "      <td>...</td>\n",
              "      <td>...</td>\n",
              "    </tr>\n",
              "    <tr>\n",
              "      <th>208</th>\n",
              "      <td>Protect our Healthcare workers during the COVI...</td>\n",
              "      <td>False</td>\n",
              "    </tr>\n",
              "    <tr>\n",
              "      <th>209</th>\n",
              "      <td>Personal protective equipment (PPE) is essenti...</td>\n",
              "      <td>False</td>\n",
              "    </tr>\n",
              "    <tr>\n",
              "      <th>210</th>\n",
              "      <td>Close Schools during the COVID-19 pandemic</td>\n",
              "      <td>True</td>\n",
              "    </tr>\n",
              "    <tr>\n",
              "      <th>211</th>\n",
              "      <td>Immediate Relief for Rent/Mortgage/Utility Bil...</td>\n",
              "      <td>False</td>\n",
              "    </tr>\n",
              "    <tr>\n",
              "      <th>212</th>\n",
              "      <td>Loan forgiveness for nurses actively working d...</td>\n",
              "      <td>False</td>\n",
              "    </tr>\n",
              "  </tbody>\n",
              "</table>\n",
              "<p>213 rows × 2 columns</p>\n",
              "</div>\n",
              "      <button class=\"colab-df-convert\" onclick=\"convertToInteractive('df-9b0adc9c-59a1-4a4d-9a26-f6562e43ac57')\"\n",
              "              title=\"Convert this dataframe to an interactive table.\"\n",
              "              style=\"display:none;\">\n",
              "        \n",
              "  <svg xmlns=\"http://www.w3.org/2000/svg\" height=\"24px\"viewBox=\"0 0 24 24\"\n",
              "       width=\"24px\">\n",
              "    <path d=\"M0 0h24v24H0V0z\" fill=\"none\"/>\n",
              "    <path d=\"M18.56 5.44l.94 2.06.94-2.06 2.06-.94-2.06-.94-.94-2.06-.94 2.06-2.06.94zm-11 1L8.5 8.5l.94-2.06 2.06-.94-2.06-.94L8.5 2.5l-.94 2.06-2.06.94zm10 10l.94 2.06.94-2.06 2.06-.94-2.06-.94-.94-2.06-.94 2.06-2.06.94z\"/><path d=\"M17.41 7.96l-1.37-1.37c-.4-.4-.92-.59-1.43-.59-.52 0-1.04.2-1.43.59L10.3 9.45l-7.72 7.72c-.78.78-.78 2.05 0 2.83L4 21.41c.39.39.9.59 1.41.59.51 0 1.02-.2 1.41-.59l7.78-7.78 2.81-2.81c.8-.78.8-2.07 0-2.86zM5.41 20L4 18.59l7.72-7.72 1.47 1.35L5.41 20z\"/>\n",
              "  </svg>\n",
              "      </button>\n",
              "      \n",
              "  <style>\n",
              "    .colab-df-container {\n",
              "      display:flex;\n",
              "      flex-wrap:wrap;\n",
              "      gap: 12px;\n",
              "    }\n",
              "\n",
              "    .colab-df-convert {\n",
              "      background-color: #E8F0FE;\n",
              "      border: none;\n",
              "      border-radius: 50%;\n",
              "      cursor: pointer;\n",
              "      display: none;\n",
              "      fill: #1967D2;\n",
              "      height: 32px;\n",
              "      padding: 0 0 0 0;\n",
              "      width: 32px;\n",
              "    }\n",
              "\n",
              "    .colab-df-convert:hover {\n",
              "      background-color: #E2EBFA;\n",
              "      box-shadow: 0px 1px 2px rgba(60, 64, 67, 0.3), 0px 1px 3px 1px rgba(60, 64, 67, 0.15);\n",
              "      fill: #174EA6;\n",
              "    }\n",
              "\n",
              "    [theme=dark] .colab-df-convert {\n",
              "      background-color: #3B4455;\n",
              "      fill: #D2E3FC;\n",
              "    }\n",
              "\n",
              "    [theme=dark] .colab-df-convert:hover {\n",
              "      background-color: #434B5C;\n",
              "      box-shadow: 0px 1px 3px 1px rgba(0, 0, 0, 0.15);\n",
              "      filter: drop-shadow(0px 1px 2px rgba(0, 0, 0, 0.3));\n",
              "      fill: #FFFFFF;\n",
              "    }\n",
              "  </style>\n",
              "\n",
              "      <script>\n",
              "        const buttonEl =\n",
              "          document.querySelector('#df-9b0adc9c-59a1-4a4d-9a26-f6562e43ac57 button.colab-df-convert');\n",
              "        buttonEl.style.display =\n",
              "          google.colab.kernel.accessAllowed ? 'block' : 'none';\n",
              "\n",
              "        async function convertToInteractive(key) {\n",
              "          const element = document.querySelector('#df-9b0adc9c-59a1-4a4d-9a26-f6562e43ac57');\n",
              "          const dataTable =\n",
              "            await google.colab.kernel.invokeFunction('convertToInteractive',\n",
              "                                                     [key], {});\n",
              "          if (!dataTable) return;\n",
              "\n",
              "          const docLinkHtml = 'Like what you see? Visit the ' +\n",
              "            '<a target=\"_blank\" href=https://colab.research.google.com/notebooks/data_table.ipynb>data table notebook</a>'\n",
              "            + ' to learn more about interactive tables.';\n",
              "          element.innerHTML = '';\n",
              "          dataTable['output_type'] = 'display_data';\n",
              "          await google.colab.output.renderOutput(dataTable, element);\n",
              "          const docLink = document.createElement('div');\n",
              "          docLink.innerHTML = docLinkHtml;\n",
              "          element.appendChild(docLink);\n",
              "        }\n",
              "      </script>\n",
              "    </div>\n",
              "  </div>\n",
              "  "
            ]
          },
          "metadata": {},
          "execution_count": 39
        }
      ]
    },
    {
      "cell_type": "code",
      "source": [
        "#for lockdown 1\n",
        "final_label_masking=[]\n",
        "\n",
        "for e in range(0,300):\n",
        "  counterT=0\n",
        "  counterF=0\n",
        "  for f in range(1,len(changeorg_lock_1.columns)):\n",
        "    if changeorg_lock_1.iat[e,f]==True:\n",
        "      counterT+=1\n",
        "    else:\n",
        "      counterF+=1\n",
        "  if counterT>counterF:\n",
        "    final_label_masking.append(True)\n",
        "  elif counterF>counterT:\n",
        "    final_label_masking.append(False)\n",
        "  elif counterT==counterF:\n",
        "    final_label_masking.append(changeorg_lock_1.iat[e,max_lockdown01+1])\n",
        "\n",
        "\n"
      ],
      "metadata": {
        "id": "Zn9UKaUnZOPb"
      },
      "execution_count": 40,
      "outputs": []
    },
    {
      "cell_type": "code",
      "source": [
        "changeorg_lock_1_final['lockdown']=final_label_masking"
      ],
      "metadata": {
        "id": "Qv7av2ZbKz60"
      },
      "execution_count": 41,
      "outputs": []
    },
    {
      "cell_type": "code",
      "source": [
        "changeorg_lock_new1=changeorg_lock_1_final[['text','lockdown']]"
      ],
      "metadata": {
        "id": "2MJ5E3OHKn3o"
      },
      "execution_count": 42,
      "outputs": []
    },
    {
      "cell_type": "code",
      "source": [
        "changeorg_lock_new1.head(20)"
      ],
      "metadata": {
        "colab": {
          "base_uri": "https://localhost:8080/",
          "height": 676
        },
        "id": "hrFAA2ltLrt2",
        "outputId": "aa02ee45-cba2-4279-9980-e86d795ad116"
      },
      "execution_count": 43,
      "outputs": [
        {
          "output_type": "execute_result",
          "data": {
            "text/plain": [
              "                                                 text  lockdown\n",
              "0                                     COVID-19 Awards     False\n",
              "1               Cancel the 2020-2021 school year SOLs      True\n",
              "2                                                  ..     False\n",
              "3                                 Protect our nurses!     False\n",
              "4   SENSELESS IMPRISONMENT FOR MY MOM.. FIRST TIME...     False\n",
              "5   COVID-19: Demand immediate release for those i...     False\n",
              "6   Petition to recall Desmond Elliot from the Lag...     False\n",
              "7   Texas UIL Spring Sports/Competitions to be com...     False\n",
              "8             Prioritize Vaccinating Florida Teachers     False\n",
              "9                    Save Plum Island Coffee Roasters     False\n",
              "10  Suspend Rent & Mortgage in Canada during COVID-19     False\n",
              "11  Ask the City of Winston-Salem to support in-st...     False\n",
              "12  Have Online Classes & Close Physical BMCC camp...      True\n",
              "13                     Appello per la pace in Etiopia     False\n",
              "14  Stop Guinea Pig Vaccine Tests In  Africa for C...     False\n",
              "15            Rowan University: Universal Pass System     False\n",
              "16  Allow Athletic Therapists to treat their patients     False\n",
              "17                  Allow not COVID related evictions     False\n",
              "18                  #FreeNeko from Navajo County Jail     False\n",
              "19                   ÖZEL OKUL ÖDEMELERİNİNDE İNDİRİM     False"
            ],
            "text/html": [
              "\n",
              "  <div id=\"df-013d9f0f-3e2f-44ef-9e76-595a1f212971\">\n",
              "    <div class=\"colab-df-container\">\n",
              "      <div>\n",
              "<style scoped>\n",
              "    .dataframe tbody tr th:only-of-type {\n",
              "        vertical-align: middle;\n",
              "    }\n",
              "\n",
              "    .dataframe tbody tr th {\n",
              "        vertical-align: top;\n",
              "    }\n",
              "\n",
              "    .dataframe thead th {\n",
              "        text-align: right;\n",
              "    }\n",
              "</style>\n",
              "<table border=\"1\" class=\"dataframe\">\n",
              "  <thead>\n",
              "    <tr style=\"text-align: right;\">\n",
              "      <th></th>\n",
              "      <th>text</th>\n",
              "      <th>lockdown</th>\n",
              "    </tr>\n",
              "  </thead>\n",
              "  <tbody>\n",
              "    <tr>\n",
              "      <th>0</th>\n",
              "      <td>COVID-19 Awards</td>\n",
              "      <td>False</td>\n",
              "    </tr>\n",
              "    <tr>\n",
              "      <th>1</th>\n",
              "      <td>Cancel the 2020-2021 school year SOLs</td>\n",
              "      <td>True</td>\n",
              "    </tr>\n",
              "    <tr>\n",
              "      <th>2</th>\n",
              "      <td>..</td>\n",
              "      <td>False</td>\n",
              "    </tr>\n",
              "    <tr>\n",
              "      <th>3</th>\n",
              "      <td>Protect our nurses!</td>\n",
              "      <td>False</td>\n",
              "    </tr>\n",
              "    <tr>\n",
              "      <th>4</th>\n",
              "      <td>SENSELESS IMPRISONMENT FOR MY MOM.. FIRST TIME...</td>\n",
              "      <td>False</td>\n",
              "    </tr>\n",
              "    <tr>\n",
              "      <th>5</th>\n",
              "      <td>COVID-19: Demand immediate release for those i...</td>\n",
              "      <td>False</td>\n",
              "    </tr>\n",
              "    <tr>\n",
              "      <th>6</th>\n",
              "      <td>Petition to recall Desmond Elliot from the Lag...</td>\n",
              "      <td>False</td>\n",
              "    </tr>\n",
              "    <tr>\n",
              "      <th>7</th>\n",
              "      <td>Texas UIL Spring Sports/Competitions to be com...</td>\n",
              "      <td>False</td>\n",
              "    </tr>\n",
              "    <tr>\n",
              "      <th>8</th>\n",
              "      <td>Prioritize Vaccinating Florida Teachers</td>\n",
              "      <td>False</td>\n",
              "    </tr>\n",
              "    <tr>\n",
              "      <th>9</th>\n",
              "      <td>Save Plum Island Coffee Roasters</td>\n",
              "      <td>False</td>\n",
              "    </tr>\n",
              "    <tr>\n",
              "      <th>10</th>\n",
              "      <td>Suspend Rent &amp; Mortgage in Canada during COVID-19</td>\n",
              "      <td>False</td>\n",
              "    </tr>\n",
              "    <tr>\n",
              "      <th>11</th>\n",
              "      <td>Ask the City of Winston-Salem to support in-st...</td>\n",
              "      <td>False</td>\n",
              "    </tr>\n",
              "    <tr>\n",
              "      <th>12</th>\n",
              "      <td>Have Online Classes &amp; Close Physical BMCC camp...</td>\n",
              "      <td>True</td>\n",
              "    </tr>\n",
              "    <tr>\n",
              "      <th>13</th>\n",
              "      <td>Appello per la pace in Etiopia</td>\n",
              "      <td>False</td>\n",
              "    </tr>\n",
              "    <tr>\n",
              "      <th>14</th>\n",
              "      <td>Stop Guinea Pig Vaccine Tests In  Africa for C...</td>\n",
              "      <td>False</td>\n",
              "    </tr>\n",
              "    <tr>\n",
              "      <th>15</th>\n",
              "      <td>Rowan University: Universal Pass System</td>\n",
              "      <td>False</td>\n",
              "    </tr>\n",
              "    <tr>\n",
              "      <th>16</th>\n",
              "      <td>Allow Athletic Therapists to treat their patients</td>\n",
              "      <td>False</td>\n",
              "    </tr>\n",
              "    <tr>\n",
              "      <th>17</th>\n",
              "      <td>Allow not COVID related evictions</td>\n",
              "      <td>False</td>\n",
              "    </tr>\n",
              "    <tr>\n",
              "      <th>18</th>\n",
              "      <td>#FreeNeko from Navajo County Jail</td>\n",
              "      <td>False</td>\n",
              "    </tr>\n",
              "    <tr>\n",
              "      <th>19</th>\n",
              "      <td>ÖZEL OKUL ÖDEMELERİNİNDE İNDİRİM</td>\n",
              "      <td>False</td>\n",
              "    </tr>\n",
              "  </tbody>\n",
              "</table>\n",
              "</div>\n",
              "      <button class=\"colab-df-convert\" onclick=\"convertToInteractive('df-013d9f0f-3e2f-44ef-9e76-595a1f212971')\"\n",
              "              title=\"Convert this dataframe to an interactive table.\"\n",
              "              style=\"display:none;\">\n",
              "        \n",
              "  <svg xmlns=\"http://www.w3.org/2000/svg\" height=\"24px\"viewBox=\"0 0 24 24\"\n",
              "       width=\"24px\">\n",
              "    <path d=\"M0 0h24v24H0V0z\" fill=\"none\"/>\n",
              "    <path d=\"M18.56 5.44l.94 2.06.94-2.06 2.06-.94-2.06-.94-.94-2.06-.94 2.06-2.06.94zm-11 1L8.5 8.5l.94-2.06 2.06-.94-2.06-.94L8.5 2.5l-.94 2.06-2.06.94zm10 10l.94 2.06.94-2.06 2.06-.94-2.06-.94-.94-2.06-.94 2.06-2.06.94z\"/><path d=\"M17.41 7.96l-1.37-1.37c-.4-.4-.92-.59-1.43-.59-.52 0-1.04.2-1.43.59L10.3 9.45l-7.72 7.72c-.78.78-.78 2.05 0 2.83L4 21.41c.39.39.9.59 1.41.59.51 0 1.02-.2 1.41-.59l7.78-7.78 2.81-2.81c.8-.78.8-2.07 0-2.86zM5.41 20L4 18.59l7.72-7.72 1.47 1.35L5.41 20z\"/>\n",
              "  </svg>\n",
              "      </button>\n",
              "      \n",
              "  <style>\n",
              "    .colab-df-container {\n",
              "      display:flex;\n",
              "      flex-wrap:wrap;\n",
              "      gap: 12px;\n",
              "    }\n",
              "\n",
              "    .colab-df-convert {\n",
              "      background-color: #E8F0FE;\n",
              "      border: none;\n",
              "      border-radius: 50%;\n",
              "      cursor: pointer;\n",
              "      display: none;\n",
              "      fill: #1967D2;\n",
              "      height: 32px;\n",
              "      padding: 0 0 0 0;\n",
              "      width: 32px;\n",
              "    }\n",
              "\n",
              "    .colab-df-convert:hover {\n",
              "      background-color: #E2EBFA;\n",
              "      box-shadow: 0px 1px 2px rgba(60, 64, 67, 0.3), 0px 1px 3px 1px rgba(60, 64, 67, 0.15);\n",
              "      fill: #174EA6;\n",
              "    }\n",
              "\n",
              "    [theme=dark] .colab-df-convert {\n",
              "      background-color: #3B4455;\n",
              "      fill: #D2E3FC;\n",
              "    }\n",
              "\n",
              "    [theme=dark] .colab-df-convert:hover {\n",
              "      background-color: #434B5C;\n",
              "      box-shadow: 0px 1px 3px 1px rgba(0, 0, 0, 0.15);\n",
              "      filter: drop-shadow(0px 1px 2px rgba(0, 0, 0, 0.3));\n",
              "      fill: #FFFFFF;\n",
              "    }\n",
              "  </style>\n",
              "\n",
              "      <script>\n",
              "        const buttonEl =\n",
              "          document.querySelector('#df-013d9f0f-3e2f-44ef-9e76-595a1f212971 button.colab-df-convert');\n",
              "        buttonEl.style.display =\n",
              "          google.colab.kernel.accessAllowed ? 'block' : 'none';\n",
              "\n",
              "        async function convertToInteractive(key) {\n",
              "          const element = document.querySelector('#df-013d9f0f-3e2f-44ef-9e76-595a1f212971');\n",
              "          const dataTable =\n",
              "            await google.colab.kernel.invokeFunction('convertToInteractive',\n",
              "                                                     [key], {});\n",
              "          if (!dataTable) return;\n",
              "\n",
              "          const docLinkHtml = 'Like what you see? Visit the ' +\n",
              "            '<a target=\"_blank\" href=https://colab.research.google.com/notebooks/data_table.ipynb>data table notebook</a>'\n",
              "            + ' to learn more about interactive tables.';\n",
              "          element.innerHTML = '';\n",
              "          dataTable['output_type'] = 'display_data';\n",
              "          await google.colab.output.renderOutput(dataTable, element);\n",
              "          const docLink = document.createElement('div');\n",
              "          docLink.innerHTML = docLinkHtml;\n",
              "          element.appendChild(docLink);\n",
              "        }\n",
              "      </script>\n",
              "    </div>\n",
              "  </div>\n",
              "  "
            ]
          },
          "metadata": {},
          "execution_count": 43
        }
      ]
    },
    {
      "cell_type": "code",
      "source": [
        "#for lockdown 2\n",
        "final_label_vaccination=[]\n",
        "\n",
        "for g in range(0,300):\n",
        "  counterT=0\n",
        "  counterF=0\n",
        "  for h in range(1,len(changeorg_lock_2_final.columns)):\n",
        "    if changeorg_lock_2_final.iat[g,h]==True:\n",
        "      counterT+=1\n",
        "    else:\n",
        "      counterF+=1\n",
        "  if counterT>counterF:\n",
        "    final_label_vaccination.append(True)\n",
        "  elif counterF>counterT:\n",
        "    final_label_vaccination.append(False)\n",
        "  elif counterT==counterF:\n",
        "    final_label_vaccination.append(changeorg_lock_2_final.iat[g,max_lockdown02+1])\n",
        "\n",
        "\n"
      ],
      "metadata": {
        "id": "tWm_hSHCcBF1"
      },
      "execution_count": 44,
      "outputs": []
    },
    {
      "cell_type": "code",
      "source": [
        "changeorg_lock_2['lockdown']=final_label_vaccination"
      ],
      "metadata": {
        "id": "irxtdzjLL0_X"
      },
      "execution_count": 45,
      "outputs": []
    },
    {
      "cell_type": "code",
      "source": [
        "changeorg_lock_new2=changeorg_lock_2[['text','lockdown']]"
      ],
      "metadata": {
        "id": "QNW3JJlzKqW2"
      },
      "execution_count": 46,
      "outputs": []
    },
    {
      "cell_type": "code",
      "source": [
        "changeorg_lock_new2.head(20)"
      ],
      "metadata": {
        "colab": {
          "base_uri": "https://localhost:8080/",
          "height": 676
        },
        "id": "Ga4kdc0-PHQ6",
        "outputId": "055ba9c8-eb3e-4129-8ad1-d43f42bffb2a"
      },
      "execution_count": 47,
      "outputs": [
        {
          "output_type": "execute_result",
          "data": {
            "text/plain": [
              "                                                 text  lockdown\n",
              "0                           Postpone CBSE Board Exams     False\n",
              "1                  Pay rise for paramedics and nurses     False\n",
              "2                           Too Soon To Open Georgia!      True\n",
              "3   Request to reconsider DPS Ruby Park school tui...     False\n",
              "4   Covid-19 Aesthetics / Salon / Massage Industry...     False\n",
              "5   Pause classes and encourage online classes to ...      True\n",
              "6   Allow Salons to Operate with New Health Guidel...      True\n",
              "7   Open Letter to the AAMC Concerning the Medical...     False\n",
              "8    Canadian Nurses Deserve Hazard Pay For Pandemics     False\n",
              "9   Maharashtra demands Resignation from Uddhav Th...     False\n",
              "10  BC Health | Mandatory Mask Usage Across BC Sha...     False\n",
              "11  Close Seattle Central College Campus Due to CO...      True\n",
              "12  Rescue Australians Stranded in Peru due to Cor...     False\n",
              "13  Improve COVID-19 Procedures In Correctional Fa...     False\n",
              "14                         Shut down Rosebank College      True\n",
              "15                    Stop Wildlife Medicine in China     False\n",
              "16  Close Pace University NYC campus due to spread...      True\n",
              "17  Wearing face masks in public should be made ma...     False\n",
              "18                          Open Canada VACs in India     False\n",
              "19  Reduction on Vehicle Insurance rate during COV...     False"
            ],
            "text/html": [
              "\n",
              "  <div id=\"df-d5c990db-a917-4b4b-8caf-8b92f203cdf5\">\n",
              "    <div class=\"colab-df-container\">\n",
              "      <div>\n",
              "<style scoped>\n",
              "    .dataframe tbody tr th:only-of-type {\n",
              "        vertical-align: middle;\n",
              "    }\n",
              "\n",
              "    .dataframe tbody tr th {\n",
              "        vertical-align: top;\n",
              "    }\n",
              "\n",
              "    .dataframe thead th {\n",
              "        text-align: right;\n",
              "    }\n",
              "</style>\n",
              "<table border=\"1\" class=\"dataframe\">\n",
              "  <thead>\n",
              "    <tr style=\"text-align: right;\">\n",
              "      <th></th>\n",
              "      <th>text</th>\n",
              "      <th>lockdown</th>\n",
              "    </tr>\n",
              "  </thead>\n",
              "  <tbody>\n",
              "    <tr>\n",
              "      <th>0</th>\n",
              "      <td>Postpone CBSE Board Exams</td>\n",
              "      <td>False</td>\n",
              "    </tr>\n",
              "    <tr>\n",
              "      <th>1</th>\n",
              "      <td>Pay rise for paramedics and nurses</td>\n",
              "      <td>False</td>\n",
              "    </tr>\n",
              "    <tr>\n",
              "      <th>2</th>\n",
              "      <td>Too Soon To Open Georgia!</td>\n",
              "      <td>True</td>\n",
              "    </tr>\n",
              "    <tr>\n",
              "      <th>3</th>\n",
              "      <td>Request to reconsider DPS Ruby Park school tui...</td>\n",
              "      <td>False</td>\n",
              "    </tr>\n",
              "    <tr>\n",
              "      <th>4</th>\n",
              "      <td>Covid-19 Aesthetics / Salon / Massage Industry...</td>\n",
              "      <td>False</td>\n",
              "    </tr>\n",
              "    <tr>\n",
              "      <th>5</th>\n",
              "      <td>Pause classes and encourage online classes to ...</td>\n",
              "      <td>True</td>\n",
              "    </tr>\n",
              "    <tr>\n",
              "      <th>6</th>\n",
              "      <td>Allow Salons to Operate with New Health Guidel...</td>\n",
              "      <td>True</td>\n",
              "    </tr>\n",
              "    <tr>\n",
              "      <th>7</th>\n",
              "      <td>Open Letter to the AAMC Concerning the Medical...</td>\n",
              "      <td>False</td>\n",
              "    </tr>\n",
              "    <tr>\n",
              "      <th>8</th>\n",
              "      <td>Canadian Nurses Deserve Hazard Pay For Pandemics</td>\n",
              "      <td>False</td>\n",
              "    </tr>\n",
              "    <tr>\n",
              "      <th>9</th>\n",
              "      <td>Maharashtra demands Resignation from Uddhav Th...</td>\n",
              "      <td>False</td>\n",
              "    </tr>\n",
              "    <tr>\n",
              "      <th>10</th>\n",
              "      <td>BC Health | Mandatory Mask Usage Across BC Sha...</td>\n",
              "      <td>False</td>\n",
              "    </tr>\n",
              "    <tr>\n",
              "      <th>11</th>\n",
              "      <td>Close Seattle Central College Campus Due to CO...</td>\n",
              "      <td>True</td>\n",
              "    </tr>\n",
              "    <tr>\n",
              "      <th>12</th>\n",
              "      <td>Rescue Australians Stranded in Peru due to Cor...</td>\n",
              "      <td>False</td>\n",
              "    </tr>\n",
              "    <tr>\n",
              "      <th>13</th>\n",
              "      <td>Improve COVID-19 Procedures In Correctional Fa...</td>\n",
              "      <td>False</td>\n",
              "    </tr>\n",
              "    <tr>\n",
              "      <th>14</th>\n",
              "      <td>Shut down Rosebank College</td>\n",
              "      <td>True</td>\n",
              "    </tr>\n",
              "    <tr>\n",
              "      <th>15</th>\n",
              "      <td>Stop Wildlife Medicine in China</td>\n",
              "      <td>False</td>\n",
              "    </tr>\n",
              "    <tr>\n",
              "      <th>16</th>\n",
              "      <td>Close Pace University NYC campus due to spread...</td>\n",
              "      <td>True</td>\n",
              "    </tr>\n",
              "    <tr>\n",
              "      <th>17</th>\n",
              "      <td>Wearing face masks in public should be made ma...</td>\n",
              "      <td>False</td>\n",
              "    </tr>\n",
              "    <tr>\n",
              "      <th>18</th>\n",
              "      <td>Open Canada VACs in India</td>\n",
              "      <td>False</td>\n",
              "    </tr>\n",
              "    <tr>\n",
              "      <th>19</th>\n",
              "      <td>Reduction on Vehicle Insurance rate during COV...</td>\n",
              "      <td>False</td>\n",
              "    </tr>\n",
              "  </tbody>\n",
              "</table>\n",
              "</div>\n",
              "      <button class=\"colab-df-convert\" onclick=\"convertToInteractive('df-d5c990db-a917-4b4b-8caf-8b92f203cdf5')\"\n",
              "              title=\"Convert this dataframe to an interactive table.\"\n",
              "              style=\"display:none;\">\n",
              "        \n",
              "  <svg xmlns=\"http://www.w3.org/2000/svg\" height=\"24px\"viewBox=\"0 0 24 24\"\n",
              "       width=\"24px\">\n",
              "    <path d=\"M0 0h24v24H0V0z\" fill=\"none\"/>\n",
              "    <path d=\"M18.56 5.44l.94 2.06.94-2.06 2.06-.94-2.06-.94-.94-2.06-.94 2.06-2.06.94zm-11 1L8.5 8.5l.94-2.06 2.06-.94-2.06-.94L8.5 2.5l-.94 2.06-2.06.94zm10 10l.94 2.06.94-2.06 2.06-.94-2.06-.94-.94-2.06-.94 2.06-2.06.94z\"/><path d=\"M17.41 7.96l-1.37-1.37c-.4-.4-.92-.59-1.43-.59-.52 0-1.04.2-1.43.59L10.3 9.45l-7.72 7.72c-.78.78-.78 2.05 0 2.83L4 21.41c.39.39.9.59 1.41.59.51 0 1.02-.2 1.41-.59l7.78-7.78 2.81-2.81c.8-.78.8-2.07 0-2.86zM5.41 20L4 18.59l7.72-7.72 1.47 1.35L5.41 20z\"/>\n",
              "  </svg>\n",
              "      </button>\n",
              "      \n",
              "  <style>\n",
              "    .colab-df-container {\n",
              "      display:flex;\n",
              "      flex-wrap:wrap;\n",
              "      gap: 12px;\n",
              "    }\n",
              "\n",
              "    .colab-df-convert {\n",
              "      background-color: #E8F0FE;\n",
              "      border: none;\n",
              "      border-radius: 50%;\n",
              "      cursor: pointer;\n",
              "      display: none;\n",
              "      fill: #1967D2;\n",
              "      height: 32px;\n",
              "      padding: 0 0 0 0;\n",
              "      width: 32px;\n",
              "    }\n",
              "\n",
              "    .colab-df-convert:hover {\n",
              "      background-color: #E2EBFA;\n",
              "      box-shadow: 0px 1px 2px rgba(60, 64, 67, 0.3), 0px 1px 3px 1px rgba(60, 64, 67, 0.15);\n",
              "      fill: #174EA6;\n",
              "    }\n",
              "\n",
              "    [theme=dark] .colab-df-convert {\n",
              "      background-color: #3B4455;\n",
              "      fill: #D2E3FC;\n",
              "    }\n",
              "\n",
              "    [theme=dark] .colab-df-convert:hover {\n",
              "      background-color: #434B5C;\n",
              "      box-shadow: 0px 1px 3px 1px rgba(0, 0, 0, 0.15);\n",
              "      filter: drop-shadow(0px 1px 2px rgba(0, 0, 0, 0.3));\n",
              "      fill: #FFFFFF;\n",
              "    }\n",
              "  </style>\n",
              "\n",
              "      <script>\n",
              "        const buttonEl =\n",
              "          document.querySelector('#df-d5c990db-a917-4b4b-8caf-8b92f203cdf5 button.colab-df-convert');\n",
              "        buttonEl.style.display =\n",
              "          google.colab.kernel.accessAllowed ? 'block' : 'none';\n",
              "\n",
              "        async function convertToInteractive(key) {\n",
              "          const element = document.querySelector('#df-d5c990db-a917-4b4b-8caf-8b92f203cdf5');\n",
              "          const dataTable =\n",
              "            await google.colab.kernel.invokeFunction('convertToInteractive',\n",
              "                                                     [key], {});\n",
              "          if (!dataTable) return;\n",
              "\n",
              "          const docLinkHtml = 'Like what you see? Visit the ' +\n",
              "            '<a target=\"_blank\" href=https://colab.research.google.com/notebooks/data_table.ipynb>data table notebook</a>'\n",
              "            + ' to learn more about interactive tables.';\n",
              "          element.innerHTML = '';\n",
              "          dataTable['output_type'] = 'display_data';\n",
              "          await google.colab.output.renderOutput(dataTable, element);\n",
              "          const docLink = document.createElement('div');\n",
              "          docLink.innerHTML = docLinkHtml;\n",
              "          element.appendChild(docLink);\n",
              "        }\n",
              "      </script>\n",
              "    </div>\n",
              "  </div>\n",
              "  "
            ]
          },
          "metadata": {},
          "execution_count": 47
        }
      ]
    },
    {
      "cell_type": "code",
      "source": [
        "#for lockdown 3\n",
        "final_label_vaccination=[]\n",
        "\n",
        "for g in range(0,300):\n",
        "  counterT=0\n",
        "  counterF=0\n",
        "  for h in range(1,len(changeorg_lock_3_final.columns)):\n",
        "    if changeorg_lock_3_final.iat[g,h]==True:\n",
        "      counterT+=1\n",
        "    else:\n",
        "      counterF+=1\n",
        "  if counterT>counterF:\n",
        "    final_label_vaccination.append(True)\n",
        "  elif counterF>counterT:\n",
        "    final_label_vaccination.append(False)\n",
        "  elif counterT==counterF:\n",
        "    final_label_vaccination.append(changeorg_lock_3_final.iat[g,max_lockdown03+1])\n",
        "\n",
        "\n"
      ],
      "metadata": {
        "id": "XjcB4V-rOuz5"
      },
      "execution_count": 48,
      "outputs": []
    },
    {
      "cell_type": "code",
      "source": [
        "changeorg_lock_3['lockdown']=final_label_vaccination"
      ],
      "metadata": {
        "id": "i6rlPphGO_Pb"
      },
      "execution_count": 49,
      "outputs": []
    },
    {
      "cell_type": "code",
      "source": [
        "changeorg_lock_new3=changeorg_lock_3[['text','lockdown']]"
      ],
      "metadata": {
        "id": "Yek-7G7pO_qE"
      },
      "execution_count": 50,
      "outputs": []
    },
    {
      "cell_type": "code",
      "source": [
        "changeorg_lock_new3.head(20)"
      ],
      "metadata": {
        "colab": {
          "base_uri": "https://localhost:8080/",
          "height": 676
        },
        "id": "MgrYlUZzPBtv",
        "outputId": "5373a719-5be8-482e-d262-2b4a53a272ed"
      },
      "execution_count": 51,
      "outputs": [
        {
          "output_type": "execute_result",
          "data": {
            "text/plain": [
              "                                                 text  lockdown\n",
              "0   Get CoVID Vaccines to Nepal ASAP and prevent a...     False\n",
              "1                        Compensate Essential Workers     False\n",
              "2   Amend Recent COVID-19 Restrictions for Persona...      True\n",
              "3   Petition against COVID-19 & Quarantine Bill: S...     False\n",
              "4   KCL Has Coronavirus Case: Petition to Have Onl...      True\n",
              "5                                      School safety.      True\n",
              "6                    NCAA Covid-19 Eligibility Relief     False\n",
              "7   RI State schools to STOP charging campus fees ...      True\n",
              "8                  Let these military pets come home!     False\n",
              "9          Texas State: Cancel all online class fees.      True\n",
              "10  Vermeiden von Pandemien - Schließung chinesisc...      True\n",
              "11  Help SJSU Students Cancel Their Lease at The G...      True\n",
              "12  Suspend mortgage and rent payments during Covi...     False\n",
              "13  COVID-19 Response to Support Families with Dis...     False\n",
              "14                             Save Roma St Parklands     False\n",
              "15  Guarantee UEA Final Year Students A Graduation...      True\n",
              "16  Uber’s “ Clean Air Fee” to be paid to Uber Dri...     False\n",
              "17          End Brookings City Council COVID Policies      True\n",
              "18  Make Google Education Services available for Iran     False\n",
              "19                     Queens Park Allotment Covid-19     False"
            ],
            "text/html": [
              "\n",
              "  <div id=\"df-f23300b1-dd51-4225-8f86-7581e14303e0\">\n",
              "    <div class=\"colab-df-container\">\n",
              "      <div>\n",
              "<style scoped>\n",
              "    .dataframe tbody tr th:only-of-type {\n",
              "        vertical-align: middle;\n",
              "    }\n",
              "\n",
              "    .dataframe tbody tr th {\n",
              "        vertical-align: top;\n",
              "    }\n",
              "\n",
              "    .dataframe thead th {\n",
              "        text-align: right;\n",
              "    }\n",
              "</style>\n",
              "<table border=\"1\" class=\"dataframe\">\n",
              "  <thead>\n",
              "    <tr style=\"text-align: right;\">\n",
              "      <th></th>\n",
              "      <th>text</th>\n",
              "      <th>lockdown</th>\n",
              "    </tr>\n",
              "  </thead>\n",
              "  <tbody>\n",
              "    <tr>\n",
              "      <th>0</th>\n",
              "      <td>Get CoVID Vaccines to Nepal ASAP and prevent a...</td>\n",
              "      <td>False</td>\n",
              "    </tr>\n",
              "    <tr>\n",
              "      <th>1</th>\n",
              "      <td>Compensate Essential Workers</td>\n",
              "      <td>False</td>\n",
              "    </tr>\n",
              "    <tr>\n",
              "      <th>2</th>\n",
              "      <td>Amend Recent COVID-19 Restrictions for Persona...</td>\n",
              "      <td>True</td>\n",
              "    </tr>\n",
              "    <tr>\n",
              "      <th>3</th>\n",
              "      <td>Petition against COVID-19 &amp; Quarantine Bill: S...</td>\n",
              "      <td>False</td>\n",
              "    </tr>\n",
              "    <tr>\n",
              "      <th>4</th>\n",
              "      <td>KCL Has Coronavirus Case: Petition to Have Onl...</td>\n",
              "      <td>True</td>\n",
              "    </tr>\n",
              "    <tr>\n",
              "      <th>5</th>\n",
              "      <td>School safety.</td>\n",
              "      <td>True</td>\n",
              "    </tr>\n",
              "    <tr>\n",
              "      <th>6</th>\n",
              "      <td>NCAA Covid-19 Eligibility Relief</td>\n",
              "      <td>False</td>\n",
              "    </tr>\n",
              "    <tr>\n",
              "      <th>7</th>\n",
              "      <td>RI State schools to STOP charging campus fees ...</td>\n",
              "      <td>True</td>\n",
              "    </tr>\n",
              "    <tr>\n",
              "      <th>8</th>\n",
              "      <td>Let these military pets come home!</td>\n",
              "      <td>False</td>\n",
              "    </tr>\n",
              "    <tr>\n",
              "      <th>9</th>\n",
              "      <td>Texas State: Cancel all online class fees.</td>\n",
              "      <td>True</td>\n",
              "    </tr>\n",
              "    <tr>\n",
              "      <th>10</th>\n",
              "      <td>Vermeiden von Pandemien - Schließung chinesisc...</td>\n",
              "      <td>True</td>\n",
              "    </tr>\n",
              "    <tr>\n",
              "      <th>11</th>\n",
              "      <td>Help SJSU Students Cancel Their Lease at The G...</td>\n",
              "      <td>True</td>\n",
              "    </tr>\n",
              "    <tr>\n",
              "      <th>12</th>\n",
              "      <td>Suspend mortgage and rent payments during Covi...</td>\n",
              "      <td>False</td>\n",
              "    </tr>\n",
              "    <tr>\n",
              "      <th>13</th>\n",
              "      <td>COVID-19 Response to Support Families with Dis...</td>\n",
              "      <td>False</td>\n",
              "    </tr>\n",
              "    <tr>\n",
              "      <th>14</th>\n",
              "      <td>Save Roma St Parklands</td>\n",
              "      <td>False</td>\n",
              "    </tr>\n",
              "    <tr>\n",
              "      <th>15</th>\n",
              "      <td>Guarantee UEA Final Year Students A Graduation...</td>\n",
              "      <td>True</td>\n",
              "    </tr>\n",
              "    <tr>\n",
              "      <th>16</th>\n",
              "      <td>Uber’s “ Clean Air Fee” to be paid to Uber Dri...</td>\n",
              "      <td>False</td>\n",
              "    </tr>\n",
              "    <tr>\n",
              "      <th>17</th>\n",
              "      <td>End Brookings City Council COVID Policies</td>\n",
              "      <td>True</td>\n",
              "    </tr>\n",
              "    <tr>\n",
              "      <th>18</th>\n",
              "      <td>Make Google Education Services available for Iran</td>\n",
              "      <td>False</td>\n",
              "    </tr>\n",
              "    <tr>\n",
              "      <th>19</th>\n",
              "      <td>Queens Park Allotment Covid-19</td>\n",
              "      <td>False</td>\n",
              "    </tr>\n",
              "  </tbody>\n",
              "</table>\n",
              "</div>\n",
              "      <button class=\"colab-df-convert\" onclick=\"convertToInteractive('df-f23300b1-dd51-4225-8f86-7581e14303e0')\"\n",
              "              title=\"Convert this dataframe to an interactive table.\"\n",
              "              style=\"display:none;\">\n",
              "        \n",
              "  <svg xmlns=\"http://www.w3.org/2000/svg\" height=\"24px\"viewBox=\"0 0 24 24\"\n",
              "       width=\"24px\">\n",
              "    <path d=\"M0 0h24v24H0V0z\" fill=\"none\"/>\n",
              "    <path d=\"M18.56 5.44l.94 2.06.94-2.06 2.06-.94-2.06-.94-.94-2.06-.94 2.06-2.06.94zm-11 1L8.5 8.5l.94-2.06 2.06-.94-2.06-.94L8.5 2.5l-.94 2.06-2.06.94zm10 10l.94 2.06.94-2.06 2.06-.94-2.06-.94-.94-2.06-.94 2.06-2.06.94z\"/><path d=\"M17.41 7.96l-1.37-1.37c-.4-.4-.92-.59-1.43-.59-.52 0-1.04.2-1.43.59L10.3 9.45l-7.72 7.72c-.78.78-.78 2.05 0 2.83L4 21.41c.39.39.9.59 1.41.59.51 0 1.02-.2 1.41-.59l7.78-7.78 2.81-2.81c.8-.78.8-2.07 0-2.86zM5.41 20L4 18.59l7.72-7.72 1.47 1.35L5.41 20z\"/>\n",
              "  </svg>\n",
              "      </button>\n",
              "      \n",
              "  <style>\n",
              "    .colab-df-container {\n",
              "      display:flex;\n",
              "      flex-wrap:wrap;\n",
              "      gap: 12px;\n",
              "    }\n",
              "\n",
              "    .colab-df-convert {\n",
              "      background-color: #E8F0FE;\n",
              "      border: none;\n",
              "      border-radius: 50%;\n",
              "      cursor: pointer;\n",
              "      display: none;\n",
              "      fill: #1967D2;\n",
              "      height: 32px;\n",
              "      padding: 0 0 0 0;\n",
              "      width: 32px;\n",
              "    }\n",
              "\n",
              "    .colab-df-convert:hover {\n",
              "      background-color: #E2EBFA;\n",
              "      box-shadow: 0px 1px 2px rgba(60, 64, 67, 0.3), 0px 1px 3px 1px rgba(60, 64, 67, 0.15);\n",
              "      fill: #174EA6;\n",
              "    }\n",
              "\n",
              "    [theme=dark] .colab-df-convert {\n",
              "      background-color: #3B4455;\n",
              "      fill: #D2E3FC;\n",
              "    }\n",
              "\n",
              "    [theme=dark] .colab-df-convert:hover {\n",
              "      background-color: #434B5C;\n",
              "      box-shadow: 0px 1px 3px 1px rgba(0, 0, 0, 0.15);\n",
              "      filter: drop-shadow(0px 1px 2px rgba(0, 0, 0, 0.3));\n",
              "      fill: #FFFFFF;\n",
              "    }\n",
              "  </style>\n",
              "\n",
              "      <script>\n",
              "        const buttonEl =\n",
              "          document.querySelector('#df-f23300b1-dd51-4225-8f86-7581e14303e0 button.colab-df-convert');\n",
              "        buttonEl.style.display =\n",
              "          google.colab.kernel.accessAllowed ? 'block' : 'none';\n",
              "\n",
              "        async function convertToInteractive(key) {\n",
              "          const element = document.querySelector('#df-f23300b1-dd51-4225-8f86-7581e14303e0');\n",
              "          const dataTable =\n",
              "            await google.colab.kernel.invokeFunction('convertToInteractive',\n",
              "                                                     [key], {});\n",
              "          if (!dataTable) return;\n",
              "\n",
              "          const docLinkHtml = 'Like what you see? Visit the ' +\n",
              "            '<a target=\"_blank\" href=https://colab.research.google.com/notebooks/data_table.ipynb>data table notebook</a>'\n",
              "            + ' to learn more about interactive tables.';\n",
              "          element.innerHTML = '';\n",
              "          dataTable['output_type'] = 'display_data';\n",
              "          await google.colab.output.renderOutput(dataTable, element);\n",
              "          const docLink = document.createElement('div');\n",
              "          docLink.innerHTML = docLinkHtml;\n",
              "          element.appendChild(docLink);\n",
              "        }\n",
              "      </script>\n",
              "    </div>\n",
              "  </div>\n",
              "  "
            ]
          },
          "metadata": {},
          "execution_count": 51
        }
      ]
    },
    {
      "cell_type": "code",
      "source": [
        "#for lockdown 4\n",
        "final_label_vaccination=[]\n",
        "\n",
        "for g in range(0,300):\n",
        "  counterT=0\n",
        "  counterF=0\n",
        "  for h in range(1,len(changeorg_lock_4_final.columns)):\n",
        "    if changeorg_lock_4_final.iat[g,h]==True:\n",
        "      counterT+=1\n",
        "    else:\n",
        "      counterF+=1\n",
        "  if counterT>counterF:\n",
        "    final_label_vaccination.append(True)\n",
        "  elif counterF>counterT:\n",
        "    final_label_vaccination.append(False)\n",
        "  elif counterT==counterF:\n",
        "    final_label_vaccination.append(changeorg_lock_4_final.iat[g,max_lockdown03+1])\n",
        "\n",
        "\n"
      ],
      "metadata": {
        "id": "q-pcCjDHPhol"
      },
      "execution_count": 52,
      "outputs": []
    },
    {
      "cell_type": "code",
      "source": [
        "changeorg_lock_4['lockdown']=final_label_vaccination"
      ],
      "metadata": {
        "id": "-n1ZoK67Phsf"
      },
      "execution_count": 53,
      "outputs": []
    },
    {
      "cell_type": "code",
      "source": [
        "changeorg_lock_new4=changeorg_lock_4[['text','lockdown']]"
      ],
      "metadata": {
        "id": "fKp-La5wPnhO"
      },
      "execution_count": 54,
      "outputs": []
    },
    {
      "cell_type": "code",
      "source": [
        "changeorg_lock_new4.head(20)"
      ],
      "metadata": {
        "colab": {
          "base_uri": "https://localhost:8080/",
          "height": 676
        },
        "id": "FzT--kLmPnnc",
        "outputId": "5c9d3a5c-d6bf-4b88-912a-b4d7cc22ce22"
      },
      "execution_count": 55,
      "outputs": [
        {
          "output_type": "execute_result",
          "data": {
            "text/plain": [
              "                                                 text  lockdown\n",
              "0          Language Education in the Time of COVID-19     False\n",
              "1                                  COVID-19 Test Kits     False\n",
              "2                                  COVID 19 IN PRISON     False\n",
              "3                                      Get Waled Home     False\n",
              "4   Make pass/fail available for Mississippi State...     False\n",
              "5   Governor Doug Burgum to Issue Mandatory Shelte...     False\n",
              "6                       Early release due to covid 19     False\n",
              "7   Medical professionals need protection and gear...     False\n",
              "8   Save Gilroy Recreation - Theater, Aquatics, Pr...     False\n",
              "9            Class of 2020 to get their certification     False\n",
              "10  Calling for Disability- Inclusive Response to ...     False\n",
              "11  Open the 2020-2021 School Year Traditionally i...     False\n",
              "12  Save the Enhanced Nursery School Operating Gra...     False\n",
              "13  Cancel the STAAR test for the 2020/2021 school...     False\n",
              "14                        Justice For Dr. Susan Moore     False\n",
              "15             Extend Winter Break for Brock Students     False\n",
              "16                    Get American crew members home!     False\n",
              "17                   RAISE PSW WAGES TO $25​.​00/HOUR     False\n",
              "18  COVID-19  Dance Studio Industry Economic Hardship     False\n",
              "19                     Support More Testing for Covid     False"
            ],
            "text/html": [
              "\n",
              "  <div id=\"df-8c28e118-559a-4a86-9eab-f72b4f5e173b\">\n",
              "    <div class=\"colab-df-container\">\n",
              "      <div>\n",
              "<style scoped>\n",
              "    .dataframe tbody tr th:only-of-type {\n",
              "        vertical-align: middle;\n",
              "    }\n",
              "\n",
              "    .dataframe tbody tr th {\n",
              "        vertical-align: top;\n",
              "    }\n",
              "\n",
              "    .dataframe thead th {\n",
              "        text-align: right;\n",
              "    }\n",
              "</style>\n",
              "<table border=\"1\" class=\"dataframe\">\n",
              "  <thead>\n",
              "    <tr style=\"text-align: right;\">\n",
              "      <th></th>\n",
              "      <th>text</th>\n",
              "      <th>lockdown</th>\n",
              "    </tr>\n",
              "  </thead>\n",
              "  <tbody>\n",
              "    <tr>\n",
              "      <th>0</th>\n",
              "      <td>Language Education in the Time of COVID-19</td>\n",
              "      <td>False</td>\n",
              "    </tr>\n",
              "    <tr>\n",
              "      <th>1</th>\n",
              "      <td>COVID-19 Test Kits</td>\n",
              "      <td>False</td>\n",
              "    </tr>\n",
              "    <tr>\n",
              "      <th>2</th>\n",
              "      <td>COVID 19 IN PRISON</td>\n",
              "      <td>False</td>\n",
              "    </tr>\n",
              "    <tr>\n",
              "      <th>3</th>\n",
              "      <td>Get Waled Home</td>\n",
              "      <td>False</td>\n",
              "    </tr>\n",
              "    <tr>\n",
              "      <th>4</th>\n",
              "      <td>Make pass/fail available for Mississippi State...</td>\n",
              "      <td>False</td>\n",
              "    </tr>\n",
              "    <tr>\n",
              "      <th>5</th>\n",
              "      <td>Governor Doug Burgum to Issue Mandatory Shelte...</td>\n",
              "      <td>False</td>\n",
              "    </tr>\n",
              "    <tr>\n",
              "      <th>6</th>\n",
              "      <td>Early release due to covid 19</td>\n",
              "      <td>False</td>\n",
              "    </tr>\n",
              "    <tr>\n",
              "      <th>7</th>\n",
              "      <td>Medical professionals need protection and gear...</td>\n",
              "      <td>False</td>\n",
              "    </tr>\n",
              "    <tr>\n",
              "      <th>8</th>\n",
              "      <td>Save Gilroy Recreation - Theater, Aquatics, Pr...</td>\n",
              "      <td>False</td>\n",
              "    </tr>\n",
              "    <tr>\n",
              "      <th>9</th>\n",
              "      <td>Class of 2020 to get their certification</td>\n",
              "      <td>False</td>\n",
              "    </tr>\n",
              "    <tr>\n",
              "      <th>10</th>\n",
              "      <td>Calling for Disability- Inclusive Response to ...</td>\n",
              "      <td>False</td>\n",
              "    </tr>\n",
              "    <tr>\n",
              "      <th>11</th>\n",
              "      <td>Open the 2020-2021 School Year Traditionally i...</td>\n",
              "      <td>False</td>\n",
              "    </tr>\n",
              "    <tr>\n",
              "      <th>12</th>\n",
              "      <td>Save the Enhanced Nursery School Operating Gra...</td>\n",
              "      <td>False</td>\n",
              "    </tr>\n",
              "    <tr>\n",
              "      <th>13</th>\n",
              "      <td>Cancel the STAAR test for the 2020/2021 school...</td>\n",
              "      <td>False</td>\n",
              "    </tr>\n",
              "    <tr>\n",
              "      <th>14</th>\n",
              "      <td>Justice For Dr. Susan Moore</td>\n",
              "      <td>False</td>\n",
              "    </tr>\n",
              "    <tr>\n",
              "      <th>15</th>\n",
              "      <td>Extend Winter Break for Brock Students</td>\n",
              "      <td>False</td>\n",
              "    </tr>\n",
              "    <tr>\n",
              "      <th>16</th>\n",
              "      <td>Get American crew members home!</td>\n",
              "      <td>False</td>\n",
              "    </tr>\n",
              "    <tr>\n",
              "      <th>17</th>\n",
              "      <td>RAISE PSW WAGES TO $25​.​00/HOUR</td>\n",
              "      <td>False</td>\n",
              "    </tr>\n",
              "    <tr>\n",
              "      <th>18</th>\n",
              "      <td>COVID-19  Dance Studio Industry Economic Hardship</td>\n",
              "      <td>False</td>\n",
              "    </tr>\n",
              "    <tr>\n",
              "      <th>19</th>\n",
              "      <td>Support More Testing for Covid</td>\n",
              "      <td>False</td>\n",
              "    </tr>\n",
              "  </tbody>\n",
              "</table>\n",
              "</div>\n",
              "      <button class=\"colab-df-convert\" onclick=\"convertToInteractive('df-8c28e118-559a-4a86-9eab-f72b4f5e173b')\"\n",
              "              title=\"Convert this dataframe to an interactive table.\"\n",
              "              style=\"display:none;\">\n",
              "        \n",
              "  <svg xmlns=\"http://www.w3.org/2000/svg\" height=\"24px\"viewBox=\"0 0 24 24\"\n",
              "       width=\"24px\">\n",
              "    <path d=\"M0 0h24v24H0V0z\" fill=\"none\"/>\n",
              "    <path d=\"M18.56 5.44l.94 2.06.94-2.06 2.06-.94-2.06-.94-.94-2.06-.94 2.06-2.06.94zm-11 1L8.5 8.5l.94-2.06 2.06-.94-2.06-.94L8.5 2.5l-.94 2.06-2.06.94zm10 10l.94 2.06.94-2.06 2.06-.94-2.06-.94-.94-2.06-.94 2.06-2.06.94z\"/><path d=\"M17.41 7.96l-1.37-1.37c-.4-.4-.92-.59-1.43-.59-.52 0-1.04.2-1.43.59L10.3 9.45l-7.72 7.72c-.78.78-.78 2.05 0 2.83L4 21.41c.39.39.9.59 1.41.59.51 0 1.02-.2 1.41-.59l7.78-7.78 2.81-2.81c.8-.78.8-2.07 0-2.86zM5.41 20L4 18.59l7.72-7.72 1.47 1.35L5.41 20z\"/>\n",
              "  </svg>\n",
              "      </button>\n",
              "      \n",
              "  <style>\n",
              "    .colab-df-container {\n",
              "      display:flex;\n",
              "      flex-wrap:wrap;\n",
              "      gap: 12px;\n",
              "    }\n",
              "\n",
              "    .colab-df-convert {\n",
              "      background-color: #E8F0FE;\n",
              "      border: none;\n",
              "      border-radius: 50%;\n",
              "      cursor: pointer;\n",
              "      display: none;\n",
              "      fill: #1967D2;\n",
              "      height: 32px;\n",
              "      padding: 0 0 0 0;\n",
              "      width: 32px;\n",
              "    }\n",
              "\n",
              "    .colab-df-convert:hover {\n",
              "      background-color: #E2EBFA;\n",
              "      box-shadow: 0px 1px 2px rgba(60, 64, 67, 0.3), 0px 1px 3px 1px rgba(60, 64, 67, 0.15);\n",
              "      fill: #174EA6;\n",
              "    }\n",
              "\n",
              "    [theme=dark] .colab-df-convert {\n",
              "      background-color: #3B4455;\n",
              "      fill: #D2E3FC;\n",
              "    }\n",
              "\n",
              "    [theme=dark] .colab-df-convert:hover {\n",
              "      background-color: #434B5C;\n",
              "      box-shadow: 0px 1px 3px 1px rgba(0, 0, 0, 0.15);\n",
              "      filter: drop-shadow(0px 1px 2px rgba(0, 0, 0, 0.3));\n",
              "      fill: #FFFFFF;\n",
              "    }\n",
              "  </style>\n",
              "\n",
              "      <script>\n",
              "        const buttonEl =\n",
              "          document.querySelector('#df-8c28e118-559a-4a86-9eab-f72b4f5e173b button.colab-df-convert');\n",
              "        buttonEl.style.display =\n",
              "          google.colab.kernel.accessAllowed ? 'block' : 'none';\n",
              "\n",
              "        async function convertToInteractive(key) {\n",
              "          const element = document.querySelector('#df-8c28e118-559a-4a86-9eab-f72b4f5e173b');\n",
              "          const dataTable =\n",
              "            await google.colab.kernel.invokeFunction('convertToInteractive',\n",
              "                                                     [key], {});\n",
              "          if (!dataTable) return;\n",
              "\n",
              "          const docLinkHtml = 'Like what you see? Visit the ' +\n",
              "            '<a target=\"_blank\" href=https://colab.research.google.com/notebooks/data_table.ipynb>data table notebook</a>'\n",
              "            + ' to learn more about interactive tables.';\n",
              "          element.innerHTML = '';\n",
              "          dataTable['output_type'] = 'display_data';\n",
              "          await google.colab.output.renderOutput(dataTable, element);\n",
              "          const docLink = document.createElement('div');\n",
              "          docLink.innerHTML = docLinkHtml;\n",
              "          element.appendChild(docLink);\n",
              "        }\n",
              "      </script>\n",
              "    </div>\n",
              "  </div>\n",
              "  "
            ]
          },
          "metadata": {},
          "execution_count": 55
        }
      ]
    },
    {
      "cell_type": "code",
      "source": [
        "temp=[changeorg_lock_new0,changeorg_lock_new1,changeorg_lock_new2,changeorg_lock_new3,changeorg_lock_new4]\n",
        "lockdown_csv_file = pd.concat(temp)\n"
      ],
      "metadata": {
        "id": "MKF1M6xmQW6K"
      },
      "execution_count": 56,
      "outputs": []
    },
    {
      "cell_type": "code",
      "source": [
        "lockdown_csv_file=lockdown_csv_file.reset_index(drop=True)"
      ],
      "metadata": {
        "id": "7zaYdWhEMh0h"
      },
      "execution_count": 57,
      "outputs": []
    },
    {
      "cell_type": "code",
      "source": [
        "lockdown_csv_file"
      ],
      "metadata": {
        "colab": {
          "base_uri": "https://localhost:8080/",
          "height": 424
        },
        "id": "7RinFUz1OWQ0",
        "outputId": "3b613f89-8821-4c0e-f3eb-791f178932cd"
      },
      "execution_count": 58,
      "outputs": [
        {
          "output_type": "execute_result",
          "data": {
            "text/plain": [
              "                                                   text  lockdown\n",
              "0                  Save Western Ghats from annihilation     False\n",
              "1                                 Save Beacon Hill Park     False\n",
              "2          Government of India: Don't Tax Medical Bills     False\n",
              "3                                      NO FAILING @ UCR     False\n",
              "4                        WIAA - Let them play football!      True\n",
              "...                                                 ...       ...\n",
              "1495  Cancellation of Lebanese Official Exams for 20...     False\n",
              "1496  Hazard pay for essential employees working wit...     False\n",
              "1497  Stop children being weighed in school without ...     False\n",
              "1498               Allow Visitors for Covid-19 Patients     False\n",
              "1499  Exigimos acciones de control y salud en la Res...     False\n",
              "\n",
              "[1500 rows x 2 columns]"
            ],
            "text/html": [
              "\n",
              "  <div id=\"df-d8d3e6f2-e8b5-43f7-8ebd-326f357c4b9b\">\n",
              "    <div class=\"colab-df-container\">\n",
              "      <div>\n",
              "<style scoped>\n",
              "    .dataframe tbody tr th:only-of-type {\n",
              "        vertical-align: middle;\n",
              "    }\n",
              "\n",
              "    .dataframe tbody tr th {\n",
              "        vertical-align: top;\n",
              "    }\n",
              "\n",
              "    .dataframe thead th {\n",
              "        text-align: right;\n",
              "    }\n",
              "</style>\n",
              "<table border=\"1\" class=\"dataframe\">\n",
              "  <thead>\n",
              "    <tr style=\"text-align: right;\">\n",
              "      <th></th>\n",
              "      <th>text</th>\n",
              "      <th>lockdown</th>\n",
              "    </tr>\n",
              "  </thead>\n",
              "  <tbody>\n",
              "    <tr>\n",
              "      <th>0</th>\n",
              "      <td>Save Western Ghats from annihilation</td>\n",
              "      <td>False</td>\n",
              "    </tr>\n",
              "    <tr>\n",
              "      <th>1</th>\n",
              "      <td>Save Beacon Hill Park</td>\n",
              "      <td>False</td>\n",
              "    </tr>\n",
              "    <tr>\n",
              "      <th>2</th>\n",
              "      <td>Government of India: Don't Tax Medical Bills</td>\n",
              "      <td>False</td>\n",
              "    </tr>\n",
              "    <tr>\n",
              "      <th>3</th>\n",
              "      <td>NO FAILING @ UCR</td>\n",
              "      <td>False</td>\n",
              "    </tr>\n",
              "    <tr>\n",
              "      <th>4</th>\n",
              "      <td>WIAA - Let them play football!</td>\n",
              "      <td>True</td>\n",
              "    </tr>\n",
              "    <tr>\n",
              "      <th>...</th>\n",
              "      <td>...</td>\n",
              "      <td>...</td>\n",
              "    </tr>\n",
              "    <tr>\n",
              "      <th>1495</th>\n",
              "      <td>Cancellation of Lebanese Official Exams for 20...</td>\n",
              "      <td>False</td>\n",
              "    </tr>\n",
              "    <tr>\n",
              "      <th>1496</th>\n",
              "      <td>Hazard pay for essential employees working wit...</td>\n",
              "      <td>False</td>\n",
              "    </tr>\n",
              "    <tr>\n",
              "      <th>1497</th>\n",
              "      <td>Stop children being weighed in school without ...</td>\n",
              "      <td>False</td>\n",
              "    </tr>\n",
              "    <tr>\n",
              "      <th>1498</th>\n",
              "      <td>Allow Visitors for Covid-19 Patients</td>\n",
              "      <td>False</td>\n",
              "    </tr>\n",
              "    <tr>\n",
              "      <th>1499</th>\n",
              "      <td>Exigimos acciones de control y salud en la Res...</td>\n",
              "      <td>False</td>\n",
              "    </tr>\n",
              "  </tbody>\n",
              "</table>\n",
              "<p>1500 rows × 2 columns</p>\n",
              "</div>\n",
              "      <button class=\"colab-df-convert\" onclick=\"convertToInteractive('df-d8d3e6f2-e8b5-43f7-8ebd-326f357c4b9b')\"\n",
              "              title=\"Convert this dataframe to an interactive table.\"\n",
              "              style=\"display:none;\">\n",
              "        \n",
              "  <svg xmlns=\"http://www.w3.org/2000/svg\" height=\"24px\"viewBox=\"0 0 24 24\"\n",
              "       width=\"24px\">\n",
              "    <path d=\"M0 0h24v24H0V0z\" fill=\"none\"/>\n",
              "    <path d=\"M18.56 5.44l.94 2.06.94-2.06 2.06-.94-2.06-.94-.94-2.06-.94 2.06-2.06.94zm-11 1L8.5 8.5l.94-2.06 2.06-.94-2.06-.94L8.5 2.5l-.94 2.06-2.06.94zm10 10l.94 2.06.94-2.06 2.06-.94-2.06-.94-.94-2.06-.94 2.06-2.06.94z\"/><path d=\"M17.41 7.96l-1.37-1.37c-.4-.4-.92-.59-1.43-.59-.52 0-1.04.2-1.43.59L10.3 9.45l-7.72 7.72c-.78.78-.78 2.05 0 2.83L4 21.41c.39.39.9.59 1.41.59.51 0 1.02-.2 1.41-.59l7.78-7.78 2.81-2.81c.8-.78.8-2.07 0-2.86zM5.41 20L4 18.59l7.72-7.72 1.47 1.35L5.41 20z\"/>\n",
              "  </svg>\n",
              "      </button>\n",
              "      \n",
              "  <style>\n",
              "    .colab-df-container {\n",
              "      display:flex;\n",
              "      flex-wrap:wrap;\n",
              "      gap: 12px;\n",
              "    }\n",
              "\n",
              "    .colab-df-convert {\n",
              "      background-color: #E8F0FE;\n",
              "      border: none;\n",
              "      border-radius: 50%;\n",
              "      cursor: pointer;\n",
              "      display: none;\n",
              "      fill: #1967D2;\n",
              "      height: 32px;\n",
              "      padding: 0 0 0 0;\n",
              "      width: 32px;\n",
              "    }\n",
              "\n",
              "    .colab-df-convert:hover {\n",
              "      background-color: #E2EBFA;\n",
              "      box-shadow: 0px 1px 2px rgba(60, 64, 67, 0.3), 0px 1px 3px 1px rgba(60, 64, 67, 0.15);\n",
              "      fill: #174EA6;\n",
              "    }\n",
              "\n",
              "    [theme=dark] .colab-df-convert {\n",
              "      background-color: #3B4455;\n",
              "      fill: #D2E3FC;\n",
              "    }\n",
              "\n",
              "    [theme=dark] .colab-df-convert:hover {\n",
              "      background-color: #434B5C;\n",
              "      box-shadow: 0px 1px 3px 1px rgba(0, 0, 0, 0.15);\n",
              "      filter: drop-shadow(0px 1px 2px rgba(0, 0, 0, 0.3));\n",
              "      fill: #FFFFFF;\n",
              "    }\n",
              "  </style>\n",
              "\n",
              "      <script>\n",
              "        const buttonEl =\n",
              "          document.querySelector('#df-d8d3e6f2-e8b5-43f7-8ebd-326f357c4b9b button.colab-df-convert');\n",
              "        buttonEl.style.display =\n",
              "          google.colab.kernel.accessAllowed ? 'block' : 'none';\n",
              "\n",
              "        async function convertToInteractive(key) {\n",
              "          const element = document.querySelector('#df-d8d3e6f2-e8b5-43f7-8ebd-326f357c4b9b');\n",
              "          const dataTable =\n",
              "            await google.colab.kernel.invokeFunction('convertToInteractive',\n",
              "                                                     [key], {});\n",
              "          if (!dataTable) return;\n",
              "\n",
              "          const docLinkHtml = 'Like what you see? Visit the ' +\n",
              "            '<a target=\"_blank\" href=https://colab.research.google.com/notebooks/data_table.ipynb>data table notebook</a>'\n",
              "            + ' to learn more about interactive tables.';\n",
              "          element.innerHTML = '';\n",
              "          dataTable['output_type'] = 'display_data';\n",
              "          await google.colab.output.renderOutput(dataTable, element);\n",
              "          const docLink = document.createElement('div');\n",
              "          docLink.innerHTML = docLinkHtml;\n",
              "          element.appendChild(docLink);\n",
              "        }\n",
              "      </script>\n",
              "    </div>\n",
              "  </div>\n",
              "  "
            ]
          },
          "metadata": {},
          "execution_count": 58
        }
      ]
    },
    {
      "cell_type": "code",
      "source": [
        "\n",
        "lockdown_csv_file.to_csv(\"/content/drive/MyDrive/ProjectPhase2/changeorg_topic/changeorg_topic_lockdown.csv\",index=False)"
      ],
      "metadata": {
        "id": "IL2JOuNvMj2l"
      },
      "execution_count": 59,
      "outputs": []
    },
    {
      "cell_type": "code",
      "source": [],
      "metadata": {
        "id": "zVzkwOC6GWR8"
      },
      "execution_count": 59,
      "outputs": []
    }
  ]
}